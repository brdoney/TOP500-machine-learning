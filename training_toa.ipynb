{
 "cells": [
  {
   "cell_type": "markdown",
   "metadata": {},
   "source": [
    "# Example Train on All (ToA) Training Code\n",
    "\n",
    "Sample code that, with *all* of the data provided, uses the appropriate data processing steps, trains a model, and then evaluates it using various metrics.\n",
    "\n",
    "Data is split into a holdout set for evaluation after training, a test set for evaluation while training/fitting (may or may not be used that way, depending on the model), and finally a training set."
   ]
  },
  {
   "cell_type": "code",
   "execution_count": 55,
   "metadata": {},
   "outputs": [
    {
     "name": "stdout",
     "output_type": "stream",
     "text": [
      "The autoreload extension is already loaded. To reload it, use:\n",
      "  %reload_ext autoreload\n"
     ]
    }
   ],
   "source": [
    "# Automatically reload external Python files\n",
    "%load_ext autoreload\n",
    "%autoreload 2\n",
    "\n",
    "import pickle\n",
    "\n",
    "import numpy as np\n",
    "import pandas as pd\n",
    "from sklearn.preprocessing import RobustScaler\n",
    "\n",
    "from training import toa_data, calc_stats\n",
    "from data_cleaning import DataCleaner\n",
    "from models import models"
   ]
  },
  {
   "cell_type": "markdown",
   "metadata": {},
   "source": [
    "## Prep the data"
   ]
  },
  {
   "cell_type": "code",
   "execution_count": 56,
   "metadata": {},
   "outputs": [
    {
     "name": "stdout",
     "output_type": "stream",
     "text": [
      "Unknown processor: 'NEC', full name: 'NEC  3.200GHz' @ Earth Simulator, 2009\n",
      "Unknown processor: 'NEC', full name: 'NEC  3.200GHz' @ Earth Simulator, 2009\n",
      "Unknown processor: 'NEC', full name: 'NEC  3.200GHz' @ Earth Simulator, 2009\n",
      "Unknown processor: 'NEC', full name: 'NEC  3.200GHz' @ Earth Simulator, 2009\n",
      "Unknown processor: 'NEC', full name: 'NEC  3.20GHz' @ Earth Simulator, 2009\n",
      "Unknown processor: 'Xeon EM64T', full name: 'Xeon EM64T  3.60GHz' @ Thunderbird, 2006\n",
      "Filtered duplicates to go from 5332 rows to 1530\n"
     ]
    }
   ],
   "source": [
    "# dep_var = \"Log(Rmax)\"\n",
    "dep_var = \"Log(Efficiency)\"\n",
    "cleaner = DataCleaner(RobustScaler(), dep_var)\n",
    "(train_X, train_y), (test_X, test_y), (hold_X, hold_y) = toa_data(dep_var, cleaner)\n"
   ]
  },
  {
   "cell_type": "code",
   "execution_count": 21,
   "metadata": {},
   "outputs": [],
   "source": [
    "# Save preprocessor if desired\n",
    "pickle.dump(cleaner, open(\"preprocessor.pkl\", \"wb\"))\n"
   ]
  },
  {
   "cell_type": "markdown",
   "metadata": {},
   "source": [
    "## Fit the model"
   ]
  },
  {
   "cell_type": "code",
   "execution_count": 57,
   "metadata": {},
   "outputs": [
    {
     "data": {
      "text/plain": [
       "SVR(cache_size=700, kernel='poly')"
      ]
     },
     "execution_count": 57,
     "metadata": {},
     "output_type": "execute_result"
    }
   ],
   "source": [
    "model = models[\"svr_2\"]\n",
    "model.fit(train_X, train_y)\n"
   ]
  },
  {
   "cell_type": "code",
   "execution_count": 23,
   "metadata": {},
   "outputs": [],
   "source": [
    "# Save the model if desired\n",
    "pickle.dump(model, open(\"model.pkl\", \"wb\"))\n"
   ]
  },
  {
   "cell_type": "markdown",
   "metadata": {},
   "source": [
    "## Measure performance"
   ]
  },
  {
   "cell_type": "code",
   "execution_count": null,
   "metadata": {},
   "outputs": [],
   "source": [
    "# Testing score\n",
    "pred_y = model.predict(test_X)\n",
    "calc_stats(test_y, pred_y, prefix=\"Testing\")\n",
    "\n",
    "print()\n",
    "\n",
    "# Holdout score\n",
    "pred_y = model.predict(hold_X)\n",
    "calc_stats(hold_y, pred_y, prefix=\"Holdout\")\n"
   ]
  },
  {
   "cell_type": "markdown",
   "metadata": {},
   "source": [
    "## Try cross validation for additional data\n",
    "\n",
    "It only makes sense when using ToA, because random train/test splits that do not respect time would violate ToP."
   ]
  },
  {
   "cell_type": "code",
   "execution_count": 53,
   "metadata": {},
   "outputs": [],
   "source": [
    "from sklearn.metrics import r2_score\n",
    "\n",
    "from kfold import cross_validate\n",
    "\n",
    "non_holdout_X = pd.concat([train_X, test_X], ignore_index=True)\n",
    "non_holdout_y = pd.concat([train_y, test_y], ignore_index=True)\n",
    "\n",
    "r2, best = cross_validate(model, non_holdout_X, non_holdout_y, scoring=r2_score, cv=10)\n"
   ]
  },
  {
   "cell_type": "code",
   "execution_count": 54,
   "metadata": {},
   "outputs": [
    {
     "data": {
      "text/plain": [
       "(array([0.77709742, 0.70812389, 0.87638093, 0.74226829, 0.82012622,\n",
       "        0.88306558, 0.80476139, 0.77750221, 0.7868041 , 0.79835992]),\n",
       " DNN1())"
      ]
     },
     "execution_count": 54,
     "metadata": {},
     "output_type": "execute_result"
    }
   ],
   "source": [
    "r2, best"
   ]
  }
 ],
 "metadata": {
  "kernelspec": {
   "display_name": "Python 3.9.13 ('.venv': venv)",
   "language": "python",
   "name": "python3"
  },
  "language_info": {
   "codemirror_mode": {
    "name": "ipython",
    "version": 3
   },
   "file_extension": ".py",
   "mimetype": "text/x-python",
   "name": "python",
   "nbconvert_exporter": "python",
   "pygments_lexer": "ipython3",
   "version": "3.9.13"
  },
  "orig_nbformat": 4,
  "vscode": {
   "interpreter": {
    "hash": "cdd615527671926590b4515209fb3d877bf391eaf9bda872a235b386b66e711c"
   }
  }
 },
 "nbformat": 4,
 "nbformat_minor": 2
}
