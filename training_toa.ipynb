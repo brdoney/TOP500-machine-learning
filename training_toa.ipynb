{
 "cells": [
  {
   "cell_type": "markdown",
   "source": [
    "# Example Train on All (ToA) Training Code\n",
    "\n",
    "Sample code that, with *all* of the data provided, uses the appropriate data processing steps, trains a model, and then evaluates it using various metrics.\n",
    "\n",
    "Data is split into a holdout set for evaluation after training, a test set for evaluation while training/fitting (may or may not be used that way, depending on the model), and finally a training set."
   ],
   "metadata": {}
  },
  {
   "cell_type": "code",
   "execution_count": null,
   "source": [
    "# Automatically reload external Python files\n",
    "%load_ext autoreload\n",
    "%autoreload 2\n",
    "\n",
    "import numpy as np\n",
    "import pandas as pd\n",
    "from sklearn.ensemble import RandomForestRegressor\n",
    "from sklearn.model_selection import cross_val_score\n",
    "from sklearn.preprocessing import RobustScaler\n",
    "\n",
    "from training import toa_data, calc_stats"
   ],
   "outputs": [],
   "metadata": {}
  },
  {
   "cell_type": "markdown",
   "source": [
    "## Prep the data"
   ],
   "metadata": {}
  },
  {
   "cell_type": "code",
   "execution_count": null,
   "source": [
    "dep_var = \"Log(Rmax)\"\n",
    "# dep_var = \"Log(Efficiency)\"\n",
    "(train_X, train_y), (test_X, test_y), (hold_X,\n",
    "                                       hold_y) = toa_data(dep_var, RobustScaler())\n"
   ],
   "outputs": [],
   "metadata": {}
  },
  {
   "cell_type": "markdown",
   "source": [
    "## Fit the model"
   ],
   "metadata": {}
  },
  {
   "cell_type": "code",
   "execution_count": null,
   "source": [
    "model = RandomForestRegressor(n_estimators=1000)\n",
    "model.fit(train_X, train_y)\n"
   ],
   "outputs": [],
   "metadata": {}
  },
  {
   "cell_type": "markdown",
   "source": [
    "## Measure performance"
   ],
   "metadata": {}
  },
  {
   "cell_type": "code",
   "execution_count": null,
   "source": [
    "# Testing score\n",
    "pred_y = model.predict(test_X)\n",
    "calc_stats(test_y, pred_y, prefix=\"Testing\")\n",
    "\n",
    "print()\n",
    "\n",
    "# Holdout score\n",
    "pred_y = model.predict(hold_X)\n",
    "calc_stats(hold_y, pred_y, prefix=\"Holdout\")\n"
   ],
   "outputs": [],
   "metadata": {}
  },
  {
   "cell_type": "markdown",
   "source": [
    "## Try cross validation for additional data\n",
    "\n",
    "It only makes sense when using ToA, because random train/test splits that do not respect time would violate ToP."
   ],
   "metadata": {}
  },
  {
   "cell_type": "code",
   "execution_count": null,
   "source": [
    "non_holdout_X = pd.concat([train_X, test_X], ignore_index=True)\n",
    "non_holdout_y = pd.concat([train_y, test_y], ignore_index=True)\n",
    "# Use the default 5 number of folds\n",
    "score: np.ndarray = cross_val_score(\n",
    "    model, non_holdout_X, non_holdout_y, scoring=\"r2\", n_jobs=5)\n",
    "print(score, score.mean(), score.std())\n"
   ],
   "outputs": [],
   "metadata": {}
  }
 ],
 "metadata": {
  "orig_nbformat": 4,
  "language_info": {
   "name": "python",
   "version": "3.9.6",
   "mimetype": "text/x-python",
   "codemirror_mode": {
    "name": "ipython",
    "version": 3
   },
   "pygments_lexer": "ipython3",
   "nbconvert_exporter": "python",
   "file_extension": ".py"
  },
  "kernelspec": {
   "name": "python3",
   "display_name": "Python 3.9.6 64-bit ('.venv': venv)"
  },
  "interpreter": {
   "hash": "32c98c724f4dc158d685d7f352a5521c40874805d8d14b99c4302dfd329e583c"
  }
 },
 "nbformat": 4,
 "nbformat_minor": 2
}