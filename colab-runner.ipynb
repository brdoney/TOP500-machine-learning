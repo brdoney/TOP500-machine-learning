{
 "cells": [
  {
   "cell_type": "markdown",
   "source": [
    "# Run Notebooks with Google Colab\n",
    "Instead of running things locally, use Google Colab to execute the cells in local Python Notebooks in VSCode!"
   ],
   "metadata": {}
  },
  {
   "cell_type": "code",
   "execution_count": null,
   "source": [
    "# Install the desired python version and pip\n",
    "!apt -qq install software-properties-common\n",
    "!add-apt-repository ppa:deadsnakes/ppa -y\n",
    "!apt update\n",
    "!apt -qq install python3.9-dev python3.9-distutils\n",
    "!curl https://bootstrap.pypa.io/get-pip.py | python3.9\n",
    "\n",
    "# Set up the project itself\n",
    "!git clone https://github.com/brdoney/TOP500-machine-learning\n",
    "%cd TOP500-machine-learning/\n",
    "!pip3.9 install -r requirements.txt -q\n"
   ],
   "outputs": [],
   "metadata": {}
  },
  {
   "cell_type": "code",
   "execution_count": null,
   "source": [
    "# Run jupyterlab in background\n",
    "!pip3.9 install jupyterlab -q\n",
    "!nohup python3.9 -m jupyter lab --ip=0.0.0.0 &\n",
    "\n",
    "# Make jupyterlab accessible via ngrok\n",
    "!python3 -m pip install pyngrok -q\n",
    "from pyngrok import ngrok\n",
    "print(ngrok.connect(8888))"
   ],
   "outputs": [],
   "metadata": {}
  }
 ],
 "metadata": {
  "orig_nbformat": 4,
  "language_info": {
   "name": "python"
  }
 },
 "nbformat": 4,
 "nbformat_minor": 2
}