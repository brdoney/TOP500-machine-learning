{
 "cells": [
  {
   "cell_type": "markdown",
   "source": [
    "# Example Train on Past (ToP) Training Code\n",
    "\n",
    "Sample code that, with only data that occurs *before* a given date, uses the appropriate data processing steps, trains a model, and then evaluates it using various metrics.\n",
    "\n",
    "Data is split into a testing set, comprised of data reported at a given date, and a training set, comprised of data from a given number of datasets before the date."
   ],
   "metadata": {}
  },
  {
   "cell_type": "code",
   "execution_count": 11,
   "source": [
    "# Automatically reload external Python files\n",
    "%load_ext autoreload\n",
    "%autoreload 2\n",
    "\n",
    "import numpy as np\n",
    "from sklearn.ensemble import RandomForestRegressor\n",
    "from sklearn.model_selection import cross_val_score\n",
    "from sklearn.preprocessing import RobustScaler"
   ],
   "outputs": [
    {
     "output_type": "stream",
     "name": "stdout",
     "text": [
      "The autoreload extension is already loaded. To reload it, use:\n",
      "  %reload_ext autoreload\n"
     ]
    }
   ],
   "metadata": {}
  },
  {
   "cell_type": "code",
   "execution_count": 12,
   "source": [
    "from data_cleaning import prep_dataframe, preprocess_data, select_past\n",
    "from read_data import read_datasets\n",
    "from training import train_test_year, split_x_y, print_stats"
   ],
   "outputs": [],
   "metadata": {}
  },
  {
   "cell_type": "markdown",
   "source": [
    "## Prep the data"
   ],
   "metadata": {}
  },
  {
   "cell_type": "code",
   "execution_count": 13,
   "source": [
    "dep_var = \"Log(Rmax)\"\n",
    "# dep_var = \"Log(Efficiency)\"\n",
    "all_data = read_datasets()\n",
    "\n",
    "data = prep_dataframe(all_data, dep_var)\n",
    "data = select_past(data, 3)\n",
    "data, _ = preprocess_data(data, dep_var, RobustScaler(), True)\n",
    "train, test = train_test_year(data)\n",
    "\n",
    "# Do splits for all data\n",
    "(train_X, train_y), (test_X, test_y) = split_x_y([train, test], dep_var)\n"
   ],
   "outputs": [
    {
     "output_type": "stream",
     "name": "stdout",
     "text": [
      "TOP500_201906.xls\n",
      "TOP500_202011.xlsx\n"
     ]
    },
    {
     "output_type": "stream",
     "name": "stdout",
     "text": [
      "TOP500_201911.xls\n",
      "TOP500_202006.xlsx\n"
     ]
    },
    {
     "output_type": "stream",
     "name": "stdout",
     "text": [
      "TOP500_201811.xls\n",
      "TOP500_201806.xls\n",
      "TOP500_201206.xls\n",
      "TOP500_201211.xls\n",
      "TOP500_201406.xls\n",
      "TOP500_202106.xlsx\n"
     ]
    },
    {
     "output_type": "stream",
     "name": "stdout",
     "text": [
      "TOP500_201611.xls\n",
      "TOP500_201411.xls\n",
      "TOP500_201606.xls\n",
      "TOP500_201311.xls\n",
      "TOP500_201306.xls\n"
     ]
    },
    {
     "output_type": "stream",
     "name": "stdout",
     "text": [
      "TOP500_201111.xls\n",
      "TOP500_201511.xls\n",
      "TOP500_201706.xls\n",
      "TOP500_201506.xls\n",
      "TOP500_201711.xls\n"
     ]
    },
    {
     "output_type": "stream",
     "name": "stdout",
     "text": [
      "Unknown processor: 'Vector Engine Type10AE', full name: 'Vector Engine Type10AE 8C 1.58GHz' @ Plasma Simulator, 2020\n",
      "Unknown processor: 'Vector Engine Type10AE', full name: 'Vector Engine Type10AE 8C 1.58GHz' @ nan, 2020\n",
      "Unknown processor: 'NEC', full name: 'NEC  3.200GHz' @ Earth Simulator, 2009\n",
      "Unknown processor: 'NEC', full name: 'NEC  3.200GHz' @ Earth Simulator, 2009\n",
      "Unknown processor: 'AMD EPYC 7763', full name: 'AMD EPYC 7763 64C 2.45GHz' @ Perlmutter, 2021\n",
      "Unknown processor: 'Xeon Platinum 8368Q', full name: 'Xeon Platinum 8368Q 38C 2.6GHz' @ Maru, 2021\n",
      "Unknown processor: 'Xeon Platinum 8368Q', full name: 'Xeon Platinum 8368Q 38C 2.6GHz' @ Guru, 2021\n",
      "Unknown processor: 'Vector Engine Type20B', full name: 'Vector Engine Type20B 8C 1.6GHz' @ Earth Simulator -SX-Aurora TSUBASA, 2021\n",
      "Unknown processor: 'Xeon Platinum 8360Y', full name: 'Xeon Platinum 8360Y 36C 2.4GHz' @ Raven-GPU, 2021\n",
      "Unknown processor: 'Xeon Platinum 8368', full name: 'Xeon Platinum 8368 38C 2.4GHz' @ HoreKa-Green, 2021\n",
      "Unknown processor: 'Vector Engine Type10AE', full name: 'Vector Engine Type10AE 8C 1.58GHz' @ Plasma Simulator, 2020\n",
      "Unknown processor: 'Xeon Platinum 8368', full name: 'Xeon Platinum 8368 38C 2.4GHz' @ SQUID - CPU Nodes, 2021\n",
      "Unknown processor: 'Xeon Platinum 8360Y', full name: 'Xeon Platinum 8360Y 36C 2.4GHz' @ Raven, 2021\n",
      "Unknown processor: 'Xeon Platinum 8360Y', full name: 'Xeon Platinum 8360Y 36C 2.4GHz' @ Wisteria/BDEC-01 (Aquarius), 2021\n",
      "Unknown processor: 'AMD EPYC 7763', full name: 'AMD EPYC 7763 64C 2.45GHz' @ Wilkes-3, 2021\n",
      "Unknown processor: 'Vector Engine Type10AE', full name: 'Vector Engine Type10AE 8C 1.58GHz' @ nan, 2020\n",
      "Unknown processor: 'Vector Engine Type10AE', full name: 'Vector Engine Type10AE 8C 1.58GHz' @ nan, 2020\n",
      "Unknown processor: 'AMD EPYC 7763', full name: 'AMD EPYC 7763 64C 2.45GHz' @ Spartan3, 2021\n",
      "Unknown processor: 'Xeon Platinum 8368', full name: 'Xeon Platinum 8368 38C 2.4GHz' @ HoreKa-Blue, 2021\n",
      "Unknown processor: 'AMD EPYC 7763', full name: 'AMD EPYC 7763 64C 2.45GHz' @ CEA-HFi, 2021\n",
      "Unknown processor: 'NEC', full name: 'NEC  3.200GHz' @ Earth Simulator, 2009\n",
      "Unknown processor: 'NEC', full name: 'NEC  3.200GHz' @ Earth Simulator, 2009\n",
      "Unknown processor: 'NEC', full name: 'NEC  3.20GHz' @ Earth Simulator, 2009\n",
      "Unknown processor: 'Xeon EM64T', full name: 'Xeon EM64T  3.60GHz' @ Thunderbird, 2006\n",
      "Filtered duplicates to go from 1500 rows to 491\n"
     ]
    }
   ],
   "metadata": {}
  },
  {
   "cell_type": "markdown",
   "source": [
    "## Fit the model"
   ],
   "metadata": {}
  },
  {
   "cell_type": "code",
   "execution_count": 14,
   "source": [
    "model = RandomForestRegressor(n_estimators=1000)\n",
    "model.fit(train_X, train_y)\n"
   ],
   "outputs": [
    {
     "output_type": "execute_result",
     "data": {
      "text/plain": [
       "RandomForestRegressor(n_estimators=1000)"
      ]
     },
     "metadata": {},
     "execution_count": 14
    }
   ],
   "metadata": {}
  },
  {
   "cell_type": "markdown",
   "source": [
    "## Measure performance"
   ],
   "metadata": {}
  },
  {
   "cell_type": "code",
   "execution_count": 15,
   "source": [
    "# Testing score\n",
    "pred_y = model.predict(test_X)\n",
    "print_stats(test_y, pred_y, \"Testing\")\n"
   ],
   "outputs": [
    {
     "output_type": "stream",
     "name": "stdout",
     "text": [
      "Testing R^2: 0.5814748366404364\n",
      "Testing MAE: 0.35693911245747917\n",
      "Testing MAPE: 0.0399896659057118\n",
      "Testing MSE: 0.26027491144787035\n"
     ]
    }
   ],
   "metadata": {}
  }
 ],
 "metadata": {
  "orig_nbformat": 4,
  "language_info": {
   "name": "python",
   "version": "3.9.6",
   "mimetype": "text/x-python",
   "codemirror_mode": {
    "name": "ipython",
    "version": 3
   },
   "pygments_lexer": "ipython3",
   "nbconvert_exporter": "python",
   "file_extension": ".py"
  },
  "kernelspec": {
   "name": "python3",
   "display_name": "Python 3.9.6 64-bit ('.venv': venv)"
  },
  "interpreter": {
   "hash": "32c98c724f4dc158d685d7f352a5521c40874805d8d14b99c4302dfd329e583c"
  }
 },
 "nbformat": 4,
 "nbformat_minor": 2
}