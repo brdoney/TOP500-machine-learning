{
 "cells": [
  {
   "cell_type": "markdown",
   "source": [
    "# Example Train on Past (ToP) Training Code\n",
    "\n",
    "Sample code that, with only data that occurs *before* a given date, uses the appropriate data processing steps, trains a model, and then evaluates it using various metrics.\n",
    "\n",
    "Data is split into a testing set, comprised of data reported at a given date, and a training set, comprised of data from a given number of datasets before the date."
   ],
   "metadata": {}
  },
  {
   "cell_type": "code",
   "execution_count": null,
   "source": [
    "# Automatically reload external Python files\n",
    "%load_ext autoreload\n",
    "%autoreload 2\n",
    "\n",
    "import numpy as np\n",
    "from sklearn.ensemble import RandomForestRegressor\n",
    "from sklearn.model_selection import cross_val_score\n",
    "from sklearn.preprocessing import RobustScaler\n",
    "\n",
    "from training import top_data, print_stats"
   ],
   "outputs": [],
   "metadata": {}
  },
  {
   "cell_type": "markdown",
   "source": [
    "## Prep the data"
   ],
   "metadata": {}
  },
  {
   "cell_type": "code",
   "execution_count": null,
   "source": [
    "dep_var = \"Log(Rmax)\"\n",
    "# dep_var = \"Log(Efficiency)\"\n",
    "(train_X, train_y), (test_X, test_y) = top_data(dep_var, RobustScaler())"
   ],
   "outputs": [],
   "metadata": {}
  },
  {
   "cell_type": "markdown",
   "source": [
    "## Fit the model"
   ],
   "metadata": {}
  },
  {
   "cell_type": "code",
   "execution_count": null,
   "source": [
    "model = RandomForestRegressor(n_estimators=1000)\n",
    "model.fit(train_X, train_y)\n"
   ],
   "outputs": [],
   "metadata": {}
  },
  {
   "cell_type": "markdown",
   "source": [
    "## Measure performance"
   ],
   "metadata": {}
  },
  {
   "cell_type": "code",
   "execution_count": null,
   "source": [
    "# Testing score\n",
    "pred_y = model.predict(test_X)\n",
    "print_stats(test_y, pred_y, \"Testing\")\n"
   ],
   "outputs": [],
   "metadata": {}
  }
 ],
 "metadata": {
  "orig_nbformat": 4,
  "language_info": {
   "name": "python",
   "version": "3.9.6",
   "mimetype": "text/x-python",
   "codemirror_mode": {
    "name": "ipython",
    "version": 3
   },
   "pygments_lexer": "ipython3",
   "nbconvert_exporter": "python",
   "file_extension": ".py"
  },
  "kernelspec": {
   "name": "python3",
   "display_name": "Python 3.9.6 64-bit ('.venv': venv)"
  },
  "interpreter": {
   "hash": "32c98c724f4dc158d685d7f352a5521c40874805d8d14b99c4302dfd329e583c"
  }
 },
 "nbformat": 4,
 "nbformat_minor": 2
}