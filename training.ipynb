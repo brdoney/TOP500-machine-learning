{
 "cells": [
  {
   "cell_type": "markdown",
   "source": [
    "# Example Training Code\n",
    "\n",
    "Sample code that uses the appropriate data processing steps, trains a model, and then evaluates it using various metrics."
   ],
   "metadata": {}
  },
  {
   "cell_type": "code",
   "execution_count": 11,
   "source": [
    "import numpy as np\n",
    "from sklearn.ensemble import RandomForestRegressor\n",
    "from sklearn.metrics import (\n",
    "    mean_absolute_error,\n",
    "    mean_squared_error,\n",
    "    r2_score,\n",
    "    mean_absolute_percentage_error,\n",
    ")\n",
    "from sklearn.model_selection import cross_val_score\n",
    "from sklearn.preprocessing import RobustScaler"
   ],
   "outputs": [],
   "metadata": {}
  },
  {
   "cell_type": "code",
   "execution_count": 12,
   "source": [
    "from data_cleaning import preprocess_data\n",
    "from read_data import read_datasets\n",
    "from training import train_test, split_x_y"
   ],
   "outputs": [],
   "metadata": {}
  },
  {
   "cell_type": "markdown",
   "source": [
    "## Prep the data"
   ],
   "metadata": {}
  },
  {
   "cell_type": "code",
   "execution_count": 13,
   "source": [
    "dep_var = \"Log(Rmax)\"\n",
    "all_data = read_datasets()\n",
    "data, _ = preprocess_data(all_data, dep_var, RobustScaler(), True)\n",
    "# dep_var = \"Log(Efficiency)\"\n",
    "# data = get_data(dep_var, StandardScaler())\n",
    "\n",
    "non_holdout, holdout = train_test(data, 0.1)\n",
    "train, test = train_test(non_holdout, 0.1)\n",
    "\n",
    "(train_X, train_y), (test_X, test_y) = split_x_y([train, test], dep_var)"
   ],
   "outputs": [
    {
     "output_type": "stream",
     "name": "stdout",
     "text": [
      "TOP500_201906.xls\n",
      "TOP500_202011.xlsx\n",
      "TOP500_201911.xls\n",
      "TOP500_202006.xlsx\n",
      "TOP500_201811.xls\n",
      "TOP500_201806.xls\n",
      "TOP500_201206.xls\n",
      "TOP500_201211.xls\n",
      "TOP500_201406.xls\n",
      "TOP500_202106.xlsx\n",
      "TOP500_201611.xls\n",
      "TOP500_201411.xls\n",
      "TOP500_201606.xls\n",
      "TOP500_201311.xls\n",
      "TOP500_201306.xls\n",
      "TOP500_201111.xls\n",
      "TOP500_201511.xls\n",
      "TOP500_201706.xls\n",
      "TOP500_201506.xls\n",
      "TOP500_201711.xls\n",
      "Unknown processor: 'Vector Engine Type10AE', full name: 'Vector Engine Type10AE 8C 1.58GHz' @ Plasma Simulator, 2020\n",
      "Unknown processor: 'Vector Engine Type10AE', full name: 'Vector Engine Type10AE 8C 1.58GHz' @ nan, 2020\n",
      "Unknown processor: 'NEC', full name: 'NEC  3.200GHz' @ Earth Simulator, 2009\n",
      "Unknown processor: 'NEC', full name: 'NEC  3.200GHz' @ Earth Simulator, 2009\n",
      "Unknown processor: 'AMD EPYC 7763', full name: 'AMD EPYC 7763 64C 2.45GHz' @ Perlmutter, 2021\n",
      "Unknown processor: 'Xeon Platinum 8368Q', full name: 'Xeon Platinum 8368Q 38C 2.6GHz' @ Maru, 2021\n",
      "Unknown processor: 'Xeon Platinum 8368Q', full name: 'Xeon Platinum 8368Q 38C 2.6GHz' @ Guru, 2021\n",
      "Unknown processor: 'Vector Engine Type20B', full name: 'Vector Engine Type20B 8C 1.6GHz' @ Earth Simulator -SX-Aurora TSUBASA, 2021\n",
      "Unknown processor: 'Xeon Platinum 8360Y', full name: 'Xeon Platinum 8360Y 36C 2.4GHz' @ Raven-GPU, 2021\n",
      "Unknown processor: 'Xeon Platinum 8368', full name: 'Xeon Platinum 8368 38C 2.4GHz' @ HoreKa-Green, 2021\n",
      "Unknown processor: 'Vector Engine Type10AE', full name: 'Vector Engine Type10AE 8C 1.58GHz' @ Plasma Simulator, 2020\n",
      "Unknown processor: 'Xeon Platinum 8368', full name: 'Xeon Platinum 8368 38C 2.4GHz' @ SQUID - CPU Nodes, 2021\n",
      "Unknown processor: 'Xeon Platinum 8360Y', full name: 'Xeon Platinum 8360Y 36C 2.4GHz' @ Raven, 2021\n",
      "Unknown processor: 'Xeon Platinum 8360Y', full name: 'Xeon Platinum 8360Y 36C 2.4GHz' @ Wisteria/BDEC-01 (Aquarius), 2021\n",
      "Unknown processor: 'AMD EPYC 7763', full name: 'AMD EPYC 7763 64C 2.45GHz' @ Wilkes-3, 2021\n",
      "Unknown processor: 'Vector Engine Type10AE', full name: 'Vector Engine Type10AE 8C 1.58GHz' @ nan, 2020\n",
      "Unknown processor: 'Vector Engine Type10AE', full name: 'Vector Engine Type10AE 8C 1.58GHz' @ nan, 2020\n",
      "Unknown processor: 'AMD EPYC 7763', full name: 'AMD EPYC 7763 64C 2.45GHz' @ Spartan3, 2021\n",
      "Unknown processor: 'Xeon Platinum 8368', full name: 'Xeon Platinum 8368 38C 2.4GHz' @ HoreKa-Blue, 2021\n",
      "Unknown processor: 'AMD EPYC 7763', full name: 'AMD EPYC 7763 64C 2.45GHz' @ CEA-HFi, 2021\n",
      "Unknown processor: 'NEC', full name: 'NEC  3.200GHz' @ Earth Simulator, 2009\n",
      "Unknown processor: 'NEC', full name: 'NEC  3.200GHz' @ Earth Simulator, 2009\n",
      "Unknown processor: 'NEC', full name: 'NEC  3.20GHz' @ Earth Simulator, 2009\n",
      "Unknown processor: 'Xeon EM64T', full name: 'Xeon EM64T  3.60GHz' @ Thunderbird, 2006\n",
      "Filtered duplicates to go from 10000 rows to 2476\n"
     ]
    }
   ],
   "metadata": {}
  },
  {
   "cell_type": "markdown",
   "source": [
    "## Fit the model"
   ],
   "metadata": {}
  },
  {
   "cell_type": "code",
   "execution_count": 14,
   "source": [
    "model = RandomForestRegressor(n_estimators=1000)\n",
    "model.fit(train_X, train_y)\n"
   ],
   "outputs": [
    {
     "output_type": "execute_result",
     "data": {
      "text/plain": [
       "RandomForestRegressor(n_estimators=1000)"
      ]
     },
     "metadata": {},
     "execution_count": 14
    }
   ],
   "metadata": {}
  },
  {
   "cell_type": "markdown",
   "source": [
    "## Measure performance"
   ],
   "metadata": {}
  },
  {
   "cell_type": "code",
   "execution_count": 15,
   "source": [
    "# Testing score\n",
    "pred_y = model.predict(test_X)\n",
    "r2 = r2_score(test_y, pred_y)\n",
    "print(f\"Testing R^2: {r2}\")\n",
    "\n",
    "# Holdout score\n",
    "[(hold_X, hold_y)] = split_x_y([holdout], dep_var)\n",
    "pred_y = model.predict(hold_X)\n",
    "r2 = r2_score(hold_y, pred_y)\n",
    "mae = mean_absolute_error(hold_y, pred_y)\n",
    "mape = mean_absolute_percentage_error(hold_y, pred_y)\n",
    "mse = mean_squared_error(hold_y, pred_y)\n",
    "print(f\"Holdout R^2: {r2}\")\n",
    "print(f\"Holdout MAE: {mae}\")\n",
    "print(f\"Holdout MAPE: {mape}\")\n",
    "print(f\"Holdout MSE: {mse}\")\n"
   ],
   "outputs": [
    {
     "output_type": "stream",
     "name": "stdout",
     "text": [
      "Testing R^2: 0.9518182452355517\n",
      "Holdout R^2: 0.9348413364251363\n",
      "Holdout MAE: 0.21850980147849497\n",
      "Holdout MAPE: 0.03606633939457675\n",
      "Holdout MSE: 0.1302186395058301\n"
     ]
    }
   ],
   "metadata": {}
  },
  {
   "cell_type": "markdown",
   "source": [
    "## Try cross validation for additional data"
   ],
   "metadata": {}
  },
  {
   "cell_type": "code",
   "execution_count": 16,
   "source": [
    "# K-fold cross validation, with a default of 5 folds\n",
    "score: np.ndarray = cross_val_score(model, train_X, train_y, scoring=\"r2\")\n",
    "print(score, score.mean(), score.std())\n"
   ],
   "outputs": [
    {
     "output_type": "stream",
     "name": "stdout",
     "text": [
      "[0.93392174 0.94634943 0.94694618 0.95328172 0.96004152] 0.9481081167762602 0.008658737560770867\n"
     ]
    }
   ],
   "metadata": {}
  }
 ],
 "metadata": {
  "interpreter": {
   "hash": "32c98c724f4dc158d685d7f352a5521c40874805d8d14b99c4302dfd329e583c"
  },
  "kernelspec": {
   "display_name": "Python 3 (ipykernel)",
   "language": "python",
   "name": "python3"
  },
  "language_info": {
   "codemirror_mode": {
    "name": "ipython",
    "version": 3
   },
   "file_extension": ".py",
   "mimetype": "text/x-python",
   "name": "python",
   "nbconvert_exporter": "python",
   "pygments_lexer": "ipython3",
   "version": "3.9.6"
  }
 },
 "nbformat": 4,
 "nbformat_minor": 2
}