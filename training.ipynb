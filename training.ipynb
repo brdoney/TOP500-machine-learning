{
 "cells": [
  {
   "cell_type": "markdown",
   "source": [
    "# Example Training Code\n",
    "\n",
    "Sample code that uses the appropriate data processing steps, trains a model, and then evaluates it using various metrics."
   ],
   "metadata": {}
  },
  {
   "cell_type": "code",
   "execution_count": null,
   "source": [
    "import numpy as np\n",
    "from sklearn.ensemble import RandomForestRegressor\n",
    "from sklearn.metrics import (\n",
    "    mean_absolute_error,\n",
    "    mean_squared_error,\n",
    "    r2_score,\n",
    "    mean_absolute_percentage_error,\n",
    ")\n",
    "from sklearn.model_selection import cross_val_score\n",
    "from sklearn.preprocessing import RobustScaler"
   ],
   "outputs": [],
   "metadata": {}
  },
  {
   "cell_type": "code",
   "execution_count": null,
   "source": [
    "from data_cleaning import preprocess_data\n",
    "from read_data import read_datasets\n",
    "from training import train_test, split_x_y, select_past"
   ],
   "outputs": [],
   "metadata": {}
  },
  {
   "cell_type": "markdown",
   "source": [
    "## Prep the data"
   ],
   "metadata": {}
  },
  {
   "cell_type": "code",
   "execution_count": null,
   "source": [
    "dep_var = \"Log(Rmax)\"\n",
    "# dep_var = \"Log(Efficiency)\"\n",
    "all_data = read_datasets()\n",
    "\n",
    "# For train on all (ToA)\n",
    "# data, _ = preprocess_data(all_data, dep_var, RobustScaler(), True, False)\n",
    "\n",
    "# For train on past (ToP)\n",
    "data, _ = preprocess_data(all_data, dep_var, RobustScaler(), True, True)\n",
    "num_past_to_use = 3\n",
    "data = select_past(data, 2021, 6, num_past_to_use)\n",
    "\n",
    "non_holdout, holdout = train_test(data, 0.1)\n",
    "train, test = train_test(non_holdout, 0.1)\n",
    "\n",
    "(train_X, train_y), (test_X, test_y) = split_x_y([train, test], dep_var)"
   ],
   "outputs": [],
   "metadata": {}
  },
  {
   "cell_type": "markdown",
   "source": [
    "## Fit the model"
   ],
   "metadata": {}
  },
  {
   "cell_type": "code",
   "execution_count": null,
   "source": [
    "model = RandomForestRegressor(n_estimators=1000)\n",
    "model.fit(train_X, train_y)\n"
   ],
   "outputs": [],
   "metadata": {}
  },
  {
   "cell_type": "markdown",
   "source": [
    "## Measure performance"
   ],
   "metadata": {}
  },
  {
   "cell_type": "code",
   "execution_count": null,
   "source": [
    "# Testing score\n",
    "pred_y = model.predict(test_X)\n",
    "r2 = r2_score(test_y, pred_y)\n",
    "print(f\"Testing R^2: {r2}\")\n",
    "\n",
    "# Holdout score\n",
    "[(hold_X, hold_y)] = split_x_y([holdout], dep_var)\n",
    "pred_y = model.predict(hold_X)\n",
    "r2 = r2_score(hold_y, pred_y)\n",
    "mae = mean_absolute_error(hold_y, pred_y)\n",
    "mape = mean_absolute_percentage_error(hold_y, pred_y)\n",
    "mse = mean_squared_error(hold_y, pred_y)\n",
    "print(f\"Holdout R^2: {r2}\")\n",
    "print(f\"Holdout MAE: {mae}\")\n",
    "print(f\"Holdout MAPE: {mape}\")\n",
    "print(f\"Holdout MSE: {mse}\")\n"
   ],
   "outputs": [],
   "metadata": {}
  },
  {
   "cell_type": "markdown",
   "source": [
    "## Try cross validation for additional data"
   ],
   "metadata": {}
  },
  {
   "cell_type": "code",
   "execution_count": null,
   "source": [
    "# K-fold cross validation, with a default of 5 folds\n",
    "score: np.ndarray = cross_val_score(model, train_X, train_y, scoring=\"r2\")\n",
    "print(score, score.mean(), score.std())\n"
   ],
   "outputs": [],
   "metadata": {}
  }
 ],
 "metadata": {
  "interpreter": {
   "hash": "32c98c724f4dc158d685d7f352a5521c40874805d8d14b99c4302dfd329e583c"
  },
  "kernelspec": {
   "display_name": "Python 3 (ipykernel)",
   "language": "python",
   "name": "python3"
  },
  "language_info": {
   "codemirror_mode": {
    "name": "ipython",
    "version": 3
   },
   "file_extension": ".py",
   "mimetype": "text/x-python",
   "name": "python",
   "nbconvert_exporter": "python",
   "pygments_lexer": "ipython3",
   "version": "3.9.6"
  }
 },
 "nbformat": 4,
 "nbformat_minor": 2
}