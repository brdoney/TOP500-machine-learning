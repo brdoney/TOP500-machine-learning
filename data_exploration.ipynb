{
 "cells": [
  {
   "cell_type": "code",
   "execution_count": 25,
   "metadata": {},
   "outputs": [
    {
     "name": "stdout",
     "output_type": "stream",
     "text": [
      "The autoreload extension is already loaded. To reload it, use:\n",
      "  %reload_ext autoreload\n"
     ]
    }
   ],
   "source": [
    "import numpy as np\n",
    "import pandas as pd\n",
    "from typing import Any, cast, Dict\n",
    "\n",
    "%load_ext autoreload\n",
    "%autoreload 2\n"
   ]
  },
  {
   "cell_type": "code",
   "execution_count": 26,
   "metadata": {},
   "outputs": [
    {
     "name": "stdout",
     "output_type": "stream",
     "text": [
      "Unknown processor: 'NEC', full name: 'NEC  3.200GHz' @ Earth Simulator, 2009\n",
      "Unknown processor: 'NEC', full name: 'NEC  3.200GHz' @ Earth Simulator, 2009\n",
      "Unknown processor: 'NEC', full name: 'NEC  3.200GHz' @ Earth Simulator, 2009\n",
      "Unknown processor: 'NEC', full name: 'NEC  3.200GHz' @ Earth Simulator, 2009\n",
      "Unknown processor: 'NEC', full name: 'NEC  3.20GHz' @ Earth Simulator, 2009\n",
      "Unknown processor: 'Xeon EM64T', full name: 'Xeon EM64T  3.60GHz' @ Thunderbird, 2006\n",
      "Filtered duplicates to go from 10000 rows to 2476\n"
     ]
    }
   ],
   "source": [
    "from sklearn.preprocessing import RobustScaler\n",
    "from read_data import read_datasets\n",
    "from data_cleaning import DataCleaner, prep_dataframe\n",
    "\n",
    "dep_var = \"Log(Rmax)\"\n",
    "# dep_var = \"Log(Efficiency)\"\n",
    "use_crossval = True\n",
    "\n",
    "all_data = read_datasets()\n",
    "combined_data = prep_dataframe(all_data, dep_var)\n",
    "\n",
    "cleaner = DataCleaner(RobustScaler(), dep_var)\n",
    "data = cleaner.fit_transform(combined_data)\n"
   ]
  },
  {
   "cell_type": "markdown",
   "metadata": {},
   "source": [
    "## System Types\n",
    "\n",
    "See how many of each type of system there are and how they have changed over time\n"
   ]
  },
  {
   "cell_type": "code",
   "execution_count": 34,
   "metadata": {},
   "outputs": [
    {
     "name": "stdout",
     "output_type": "stream",
     "text": [
      "Cluster           8688\n",
      "MPP               1311\n",
      "Constellations       1\n",
      "Name: Architecture, dtype: int64\n"
     ]
    },
    {
     "data": {
      "text/html": [
       "<div>\n",
       "<style scoped>\n",
       "    .dataframe tbody tr th:only-of-type {\n",
       "        vertical-align: middle;\n",
       "    }\n",
       "\n",
       "    .dataframe tbody tr th {\n",
       "        vertical-align: top;\n",
       "    }\n",
       "\n",
       "    .dataframe thead th {\n",
       "        text-align: right;\n",
       "    }\n",
       "</style>\n",
       "<table border=\"1\" class=\"dataframe\">\n",
       "  <thead>\n",
       "    <tr style=\"text-align: right;\">\n",
       "      <th></th>\n",
       "      <th>Architecture</th>\n",
       "      <th>Microarchitecture</th>\n",
       "      <th>Year</th>\n",
       "      <th>Processor Speed (MHz)</th>\n",
       "      <th>Total Cores</th>\n",
       "      <th>Co-Processor Cores to Total Cores</th>\n",
       "      <th>Date</th>\n",
       "      <th>Log(Rmax)</th>\n",
       "    </tr>\n",
       "  </thead>\n",
       "  <tbody>\n",
       "    <tr>\n",
       "      <th>7958</th>\n",
       "      <td>Constellations</td>\n",
       "      <td>Montecito</td>\n",
       "      <td>2006</td>\n",
       "      <td>1600</td>\n",
       "      <td>9968</td>\n",
       "      <td>0.0</td>\n",
       "      <td>201111</td>\n",
       "      <td>3.967</td>\n",
       "    </tr>\n",
       "  </tbody>\n",
       "</table>\n",
       "</div>"
      ],
      "text/plain": [
       "        Architecture Microarchitecture  Year  Processor Speed (MHz)  \\\n",
       "7958  Constellations         Montecito  2006                   1600   \n",
       "\n",
       "      Total Cores  Co-Processor Cores to Total Cores    Date  Log(Rmax)  \n",
       "7958         9968                                0.0  201111      3.967  "
      ]
     },
     "execution_count": 34,
     "metadata": {},
     "output_type": "execute_result"
    }
   ],
   "source": [
    "print(combined_data.Architecture.value_counts())\n",
    "\n",
    "# So only 1 constellation, which is it?\n",
    "combined_data[combined_data.Architecture == 'Constellations']\n"
   ]
  },
  {
   "cell_type": "code",
   "execution_count": 35,
   "metadata": {},
   "outputs": [
    {
     "name": "stdout",
     "output_type": "stream",
     "text": [
      "Constellations:  1\n",
      "Cluster:  234\n",
      "Cluster:  2241\n"
     ]
    },
    {
     "data": {
      "text/html": [
       "<div>\n",
       "<style scoped>\n",
       "    .dataframe tbody tr th:only-of-type {\n",
       "        vertical-align: middle;\n",
       "    }\n",
       "\n",
       "    .dataframe tbody tr th {\n",
       "        vertical-align: top;\n",
       "    }\n",
       "\n",
       "    .dataframe thead th {\n",
       "        text-align: right;\n",
       "    }\n",
       "</style>\n",
       "<table border=\"1\" class=\"dataframe\">\n",
       "  <thead>\n",
       "    <tr style=\"text-align: right;\">\n",
       "      <th></th>\n",
       "      <th>Year</th>\n",
       "      <th>Processor Speed (MHz)</th>\n",
       "      <th>Total Cores</th>\n",
       "      <th>Co-Processor Cores to Total Cores</th>\n",
       "      <th>Date</th>\n",
       "      <th>Log(Rmax)</th>\n",
       "      <th>x0_MPP</th>\n",
       "      <th>x0_Constellations</th>\n",
       "      <th>x1_AMD Zen-2 (Rome)</th>\n",
       "      <th>x1_AMD Zen-3 (Milan)</th>\n",
       "      <th>...</th>\n",
       "      <th>x1_SPARC64 VIIIfx</th>\n",
       "      <th>x1_SPARC64 XIfx</th>\n",
       "      <th>x1_SW-1</th>\n",
       "      <th>x1_SW-2</th>\n",
       "      <th>x1_SW-3</th>\n",
       "      <th>x1_SW26010</th>\n",
       "      <th>x1_SX-Aurora</th>\n",
       "      <th>x1_Unknown</th>\n",
       "      <th>x1_Vulcan</th>\n",
       "      <th>x1_Zen</th>\n",
       "    </tr>\n",
       "  </thead>\n",
       "  <tbody>\n",
       "    <tr>\n",
       "      <th>7958</th>\n",
       "      <td>-1.6</td>\n",
       "      <td>-3.0</td>\n",
       "      <td>-0.377596</td>\n",
       "      <td>0.0</td>\n",
       "      <td>201111</td>\n",
       "      <td>3.967</td>\n",
       "      <td>0.0</td>\n",
       "      <td>1.0</td>\n",
       "      <td>0.0</td>\n",
       "      <td>0.0</td>\n",
       "      <td>...</td>\n",
       "      <td>0.0</td>\n",
       "      <td>0.0</td>\n",
       "      <td>0.0</td>\n",
       "      <td>0.0</td>\n",
       "      <td>0.0</td>\n",
       "      <td>0.0</td>\n",
       "      <td>0.0</td>\n",
       "      <td>0.0</td>\n",
       "      <td>0.0</td>\n",
       "      <td>0.0</td>\n",
       "    </tr>\n",
       "  </tbody>\n",
       "</table>\n",
       "<p>1 rows × 53 columns</p>\n",
       "</div>"
      ],
      "text/plain": [
       "      Year  Processor Speed (MHz)  Total Cores  \\\n",
       "7958  -1.6                   -3.0    -0.377596   \n",
       "\n",
       "      Co-Processor Cores to Total Cores    Date  Log(Rmax)  x0_MPP  \\\n",
       "7958                                0.0  201111      3.967     0.0   \n",
       "\n",
       "      x0_Constellations  x1_AMD Zen-2 (Rome)  x1_AMD Zen-3 (Milan)  ...  \\\n",
       "7958                1.0                  0.0                   0.0  ...   \n",
       "\n",
       "      x1_SPARC64 VIIIfx  x1_SPARC64 XIfx  x1_SW-1  x1_SW-2  x1_SW-3  \\\n",
       "7958                0.0              0.0      0.0      0.0      0.0   \n",
       "\n",
       "      x1_SW26010  x1_SX-Aurora  x1_Unknown  x1_Vulcan  x1_Zen  \n",
       "7958         0.0           0.0         0.0        0.0     0.0  \n",
       "\n",
       "[1 rows x 53 columns]"
      ]
     },
     "execution_count": 35,
     "metadata": {},
     "output_type": "execute_result"
    }
   ],
   "source": [
    "# How about after we do things like drop duplicates\n",
    "num_const = data.x0_Constellations.value_counts()[1]\n",
    "print(\"Constellations: \", num_const)\n",
    "num_mpp = data.x0_MPP.value_counts()[1]\n",
    "print(\"Cluster: \", num_mpp)\n",
    "num_cluster = len(data) - num_const - num_mpp\n",
    "print(\"Cluster: \", num_cluster)\n",
    "\n",
    "# So only 1 constellation, which is it?\n",
    "data[data.x0_Constellations == 1]\n"
   ]
  },
  {
   "cell_type": "code",
   "execution_count": null,
   "metadata": {},
   "outputs": [],
   "source": []
  }
 ],
 "metadata": {
  "kernelspec": {
   "display_name": "Python 3.9.13 ('.venv': venv)",
   "language": "python",
   "name": "python3"
  },
  "language_info": {
   "codemirror_mode": {
    "name": "ipython",
    "version": 3
   },
   "file_extension": ".py",
   "mimetype": "text/x-python",
   "name": "python",
   "nbconvert_exporter": "python",
   "pygments_lexer": "ipython3",
   "version": "3.9.14"
  },
  "orig_nbformat": 4,
  "vscode": {
   "interpreter": {
    "hash": "cdd615527671926590b4515209fb3d877bf391eaf9bda872a235b386b66e711c"
   }
  }
 },
 "nbformat": 4,
 "nbformat_minor": 2
}
