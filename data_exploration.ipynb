{
 "cells": [
  {
   "cell_type": "code",
   "execution_count": null,
   "source": [
    "from data_cleaning import _individual_df_cleaning\n",
    "from read_data import read_datasets\n",
    "from typing import List, Set\n",
    "\n",
    "import pandas as pd\n"
   ],
   "outputs": [],
   "metadata": {}
  },
  {
   "cell_type": "code",
   "execution_count": null,
   "source": [
    "def non_shared_cols(dataframes: List[pd.DataFrame]) -> Set[str]:\n",
    "    cols: List[Set[str]] = [set(df.columns) for df in dataframes]\n",
    "\n",
    "    differences: List[Set[str]] = []\n",
    "    for cols_a in cols:\n",
    "        for cols_b in cols:\n",
    "            if cols_a == cols_b:\n",
    "                continue\n",
    "\n",
    "            differences.append(cols_a.difference(cols_b))\n",
    "\n",
    "    all_not_shared: Set[str] = set()\n",
    "    for diff in differences:\n",
    "        all_not_shared.update(diff)\n",
    "\n",
    "    return all_not_shared\n"
   ],
   "outputs": [],
   "metadata": {}
  },
  {
   "cell_type": "code",
   "execution_count": null,
   "source": [
    "data = read_datasets()\n",
    "data = [_individual_df_cleaning(df) for df in data]\n",
    "print(non_shared_cols(data))\n"
   ],
   "outputs": [],
   "metadata": {}
  }
 ],
 "metadata": {
  "orig_nbformat": 4,
  "language_info": {
   "name": "python"
  }
 },
 "nbformat": 4,
 "nbformat_minor": 2
}